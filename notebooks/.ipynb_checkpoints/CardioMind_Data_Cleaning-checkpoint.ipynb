{
 "cells": [
  {
   "cell_type": "markdown",
   "id": "9d5cc2cd-0e3a-43c3-8968-0419186cd6ff",
   "metadata": {},
   "source": [
    " # Importation des bibliothèques"
   ]
  },
  {
   "cell_type": "code",
   "execution_count": 2,
   "id": "a740df0c-8b1c-46c6-a018-c68aba8f1d31",
   "metadata": {},
   "outputs": [],
   "source": [
    "import pandas as pd\n",
    "import numpy as np\n",
    "import matplotlib.pyplot as plt\n",
    "import seaborn as sns\n"
   ]
  },
  {
   "cell_type": "markdown",
   "id": "c412aad9-a7ac-4df6-a274-b42459f860d0",
   "metadata": {},
   "source": [
    " ## Chargement du jeu de données"
   ]
  },
  {
   "cell_type": "code",
   "execution_count": 3,
   "id": "3da3b7f7-e185-4285-a4e6-66a79d750aa8",
   "metadata": {},
   "outputs": [
    {
     "data": {
      "text/html": [
       "<div>\n",
       "<style scoped>\n",
       "    .dataframe tbody tr th:only-of-type {\n",
       "        vertical-align: middle;\n",
       "    }\n",
       "\n",
       "    .dataframe tbody tr th {\n",
       "        vertical-align: top;\n",
       "    }\n",
       "\n",
       "    .dataframe thead th {\n",
       "        text-align: right;\n",
       "    }\n",
       "</style>\n",
       "<table border=\"1\" class=\"dataframe\">\n",
       "  <thead>\n",
       "    <tr style=\"text-align: right;\">\n",
       "      <th></th>\n",
       "      <th>Age</th>\n",
       "      <th>Gender</th>\n",
       "      <th>Heart rate</th>\n",
       "      <th>Systolic blood pressure</th>\n",
       "      <th>Diastolic blood pressure</th>\n",
       "      <th>Blood sugar</th>\n",
       "      <th>CK-MB</th>\n",
       "      <th>Troponin</th>\n",
       "      <th>Result</th>\n",
       "    </tr>\n",
       "  </thead>\n",
       "  <tbody>\n",
       "    <tr>\n",
       "      <th>0</th>\n",
       "      <td>64</td>\n",
       "      <td>1</td>\n",
       "      <td>66</td>\n",
       "      <td>160</td>\n",
       "      <td>83</td>\n",
       "      <td>160.0</td>\n",
       "      <td>1.80</td>\n",
       "      <td>0.012</td>\n",
       "      <td>negative</td>\n",
       "    </tr>\n",
       "    <tr>\n",
       "      <th>1</th>\n",
       "      <td>21</td>\n",
       "      <td>1</td>\n",
       "      <td>94</td>\n",
       "      <td>98</td>\n",
       "      <td>46</td>\n",
       "      <td>296.0</td>\n",
       "      <td>6.75</td>\n",
       "      <td>1.060</td>\n",
       "      <td>positive</td>\n",
       "    </tr>\n",
       "    <tr>\n",
       "      <th>2</th>\n",
       "      <td>55</td>\n",
       "      <td>1</td>\n",
       "      <td>64</td>\n",
       "      <td>160</td>\n",
       "      <td>77</td>\n",
       "      <td>270.0</td>\n",
       "      <td>1.99</td>\n",
       "      <td>0.003</td>\n",
       "      <td>negative</td>\n",
       "    </tr>\n",
       "    <tr>\n",
       "      <th>3</th>\n",
       "      <td>64</td>\n",
       "      <td>1</td>\n",
       "      <td>70</td>\n",
       "      <td>120</td>\n",
       "      <td>55</td>\n",
       "      <td>270.0</td>\n",
       "      <td>13.87</td>\n",
       "      <td>0.122</td>\n",
       "      <td>positive</td>\n",
       "    </tr>\n",
       "    <tr>\n",
       "      <th>4</th>\n",
       "      <td>55</td>\n",
       "      <td>1</td>\n",
       "      <td>64</td>\n",
       "      <td>112</td>\n",
       "      <td>65</td>\n",
       "      <td>300.0</td>\n",
       "      <td>1.08</td>\n",
       "      <td>0.003</td>\n",
       "      <td>negative</td>\n",
       "    </tr>\n",
       "  </tbody>\n",
       "</table>\n",
       "</div>"
      ],
      "text/plain": [
       "   Age  Gender  Heart rate  Systolic blood pressure  Diastolic blood pressure  \\\n",
       "0   64       1          66                      160                        83   \n",
       "1   21       1          94                       98                        46   \n",
       "2   55       1          64                      160                        77   \n",
       "3   64       1          70                      120                        55   \n",
       "4   55       1          64                      112                        65   \n",
       "\n",
       "   Blood sugar  CK-MB  Troponin    Result  \n",
       "0        160.0   1.80     0.012  negative  \n",
       "1        296.0   6.75     1.060  positive  \n",
       "2        270.0   1.99     0.003  negative  \n",
       "3        270.0  13.87     0.122  positive  \n",
       "4        300.0   1.08     0.003  negative  "
      ]
     },
     "execution_count": 3,
     "metadata": {},
     "output_type": "execute_result"
    }
   ],
   "source": [
    "df = pd.read_csv(\"C:/Users/aldio/OneDrive/Bureau/VISUALISATION DES DONNE/CardioMind 🧠💓/CardioMind/data/raw/Medicaldataset.csv\")\n",
    "df.head()"
   ]
  },
  {
   "cell_type": "markdown",
   "id": "29f57efe-3874-4eaf-989c-9292a85a8837",
   "metadata": {},
   "source": [
    "# **Vérification des valeurs manquantes**\n"
   ]
  },
  {
   "cell_type": "code",
   "execution_count": 5,
   "id": "51fbda31-6e0a-4d67-ae34-407bbdcb7c25",
   "metadata": {},
   "outputs": [
    {
     "data": {
      "text/plain": [
       "Age                         0\n",
       "Gender                      0\n",
       "Heart rate                  0\n",
       "Systolic blood pressure     0\n",
       "Diastolic blood pressure    0\n",
       "Blood sugar                 0\n",
       "CK-MB                       0\n",
       "Troponin                    0\n",
       "Result                      0\n",
       "dtype: int64"
      ]
     },
     "execution_count": 5,
     "metadata": {},
     "output_type": "execute_result"
    }
   ],
   "source": [
    "df.isnull().sum()\n"
   ]
  },
  {
   "cell_type": "markdown",
   "id": "c1b75eac-1516-447c-9895-e32ea5dd9adb",
   "metadata": {},
   "source": [
    "# **Encodage des variables catégorielles**"
   ]
  },
  {
   "cell_type": "code",
   "execution_count": 6,
   "id": "75ec3423-7eb9-45e3-9dcd-170ac230982a",
   "metadata": {},
   "outputs": [],
   "source": [
    "\n",
    "df['Gender'] = df['Gender'].map({1: 'Male', 0: 'Female'})  \n"
   ]
  },
  {
   "cell_type": "markdown",
   "id": "abdfca31-1adb-4538-a1fe-8bbf37011691",
   "metadata": {},
   "source": [
    "# **Vérification des doublons**"
   ]
  },
  {
   "cell_type": "code",
   "execution_count": 8,
   "id": "8490443c-85ac-449c-b7e7-0c9d6389e00f",
   "metadata": {},
   "outputs": [
    {
     "data": {
      "text/plain": [
       "0"
      ]
     },
     "execution_count": 8,
     "metadata": {},
     "output_type": "execute_result"
    }
   ],
   "source": [
    "\n",
    "df.duplicated().sum()\n"
   ]
  },
  {
   "cell_type": "markdown",
   "id": "cccb538f-2abc-4a47-b86c-14f70f2d9d61",
   "metadata": {},
   "source": [
    "# **Normalisation des variables médicales**"
   ]
  },
  {
   "cell_type": "code",
   "execution_count": 20,
   "id": "e23fba99-aa8b-4223-a07c-7130c0134194",
   "metadata": {},
   "outputs": [],
   "source": [
    "# **7️⃣ Normalisation des variables médicales**\n",
    "from sklearn.preprocessing import StandardScaler\n",
    "\n",
    "scaler = StandardScaler()\n",
    "df[['Heart rate', 'Systolic blood pressure', 'Diastolic blood pressure', 'Blood sugar', 'CK-MB', 'Troponin']] = scaler.fit_transform(\n",
    "    df[['Heart rate', 'Systolic blood pressure', 'Diastolic blood pressure', 'Blood sugar', 'CK-MB', 'Troponin']]\n",
    ")\n"
   ]
  },
  {
   "cell_type": "markdown",
   "id": "fa1d883b-1bd5-40dc-a44f-0ed7f38d26c9",
   "metadata": {},
   "source": [
    "# Suppression des outliers "
   ]
  },
  {
   "cell_type": "code",
   "execution_count": 11,
   "id": "e1af7abd-89f4-4a11-9acb-0650e0c1192d",
   "metadata": {},
   "outputs": [],
   "source": [
    "Q1 = df['Heart rate'].quantile(0.25)\n",
    "Q3 = df['Heart rate'].quantile(0.75)\n",
    "IQR = Q3 - Q1\n",
    "df = df[(df['Heart rate'] >= (Q1 - 1.5 * IQR)) & (df['Heart rate'] <= (Q3 + 1.5 * IQR))]\n"
   ]
  },
  {
   "cell_type": "markdown",
   "id": "66721a6a-fcd5-470f-b80b-12b525c78081",
   "metadata": {},
   "source": [
    "# Encodage des variables catégorielles"
   ]
  },
  {
   "cell_type": "code",
   "execution_count": 21,
   "id": "96cf3da9-32b5-41fb-baf0-7aba39963f10",
   "metadata": {},
   "outputs": [],
   "source": [
    "from sklearn.preprocessing import LabelEncoder\n",
    "\n",
    "le = LabelEncoder()\n",
    "df['Gender'] = le.fit_transform(df['Gender'])\n",
    "df['Result'] = le.fit_transform(df['Result'])\n",
    "\n"
   ]
  },
  {
   "cell_type": "code",
   "execution_count": 22,
   "id": "e497ed57-6280-41c9-b588-3a4efed02e0f",
   "metadata": {},
   "outputs": [
    {
     "data": {
      "text/plain": [
       "Age                           int64\n",
       "Gender                        int64\n",
       "Heart rate                  float64\n",
       "Systolic blood pressure     float64\n",
       "Diastolic blood pressure    float64\n",
       "Blood sugar                 float64\n",
       "CK-MB                       float64\n",
       "Troponin                    float64\n",
       "Result                        int64\n",
       "dtype: object"
      ]
     },
     "execution_count": 22,
     "metadata": {},
     "output_type": "execute_result"
    }
   ],
   "source": [
    "df.dtypes\n"
   ]
  },
  {
   "cell_type": "markdown",
   "id": "a185ec5e-0f03-4fd4-a431-a7d203fa9da7",
   "metadata": {},
   "source": [
    "# Séparation des variables indépendantes et dépendantes"
   ]
  },
  {
   "cell_type": "code",
   "execution_count": 23,
   "id": "c5705441-5fe3-449b-983a-5770f4257c90",
   "metadata": {},
   "outputs": [],
   "source": [
    "X = df.drop('Result', axis=1)  # Variables indépendantes\n",
    "y = df['Result']  # Variable cible\n"
   ]
  },
  {
   "cell_type": "markdown",
   "id": "3aeea5bd-4c0e-438b-85bf-ef991b53e4a2",
   "metadata": {},
   "source": [
    "# Sauvegarde du dataframe nettoyé dans un fichier CSV"
   ]
  },
  {
   "cell_type": "code",
   "execution_count": 19,
   "id": "675466ba-80ad-4cbf-b5f1-930773d2e226",
   "metadata": {},
   "outputs": [],
   "source": [
    "\n",
    "df.to_csv(\"C:/Users/aldio/OneDrive/Bureau/VISUALISATION DES DONNE/CardioMind 🧠💓/CardioMind/data/processed/cleaned_Medicaldataset.csv\",index=False)\n"
   ]
  }
 ],
 "metadata": {
  "kernelspec": {
   "display_name": "Python 3 (ipykernel)",
   "language": "python",
   "name": "python3"
  },
  "language_info": {
   "codemirror_mode": {
    "name": "ipython",
    "version": 3
   },
   "file_extension": ".py",
   "mimetype": "text/x-python",
   "name": "python",
   "nbconvert_exporter": "python",
   "pygments_lexer": "ipython3",
   "version": "3.12.2"
  }
 },
 "nbformat": 4,
 "nbformat_minor": 5
}
